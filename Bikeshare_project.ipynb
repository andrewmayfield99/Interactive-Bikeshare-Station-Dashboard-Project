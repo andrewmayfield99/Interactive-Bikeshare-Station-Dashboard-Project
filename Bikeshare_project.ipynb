{
 "cells": [
  {
   "cell_type": "markdown",
   "metadata": {},
   "source": [
    "1. Link to the dataset and explanation of the data variables: https://data.bts.gov/Bicycles-and-Pedestrians/Locations-of-Docked-Bikeshare-Stations-by-System-a/7m5x-ubud/about_data\n",
    "\n",
    "1a. Where I found the data: https://catalog.data.gov/dataset/locations-of-docked-bikeshare-stations-by-system-and-year\n",
    "\n",
    "2. Link to the dataset: https://data.bts.gov/Bicycles-and-Pedestrians/Bikeshare-Docked-and-Dockless-and-E-scooter-System/cqdc-cm7d/about_data\n",
    "\n",
    "# **Possible Questions to Answer**\n",
    "\n",
    "### **1. Geographic Distribution**\n",
    "- **Where are bikeshare stations most densely located (e.g., by city, state, or CBSA code)?**\n",
    "- **How does the distribution of bikeshare stations vary across different regions or urban areas?**\n",
    "- **Are there specific cities or states with a higher concentration of bikeshare stations?**\n",
    "- **What is the geographic coverage of each bikeshare system (e.g., radius, area)?**\n",
    "\n",
    "---\n",
    "\n",
    "### **2. Growth and Expansion**\n",
    "- **How has the number of bikeshare stations grown over time (by year)?**\n",
    "- **Which bikeshare systems have expanded the most (e.g., by number of stations or geographic coverage)?**\n",
    "- **Are there specific years when bikeshare systems experienced rapid growth?**\n",
    "- **What is the average lifespan of a bikeshare station (based on `launchDate` and `endDate`)?**\n",
    "\n",
    "---\n",
    "\n",
    "### **3. System-Specific Analysis**\n",
    "- **Which bikeshare systems have the most stations?**\n",
    "- **How do bikeshare systems differ in terms of station density or geographic coverage?**\n",
    "- **Are there differences in station types (`STATION_TYPE`) across systems?**\n",
    "- **Which systems have the longest-running stations (based on `launchDate` and `endDate`)?**\n",
    "\n",
    "---\n",
    "\n",
    "### **4. Temporal Trends**\n",
    "- **How has the number of bikeshare stations changed over time (by year)?**\n",
    "- **Are there seasonal patterns in the launch or closure of bikeshare stations?**\n",
    "- **Do certain years show a spike in station launches or closures?**\n",
    "- **What is the average duration a bikeshare station remains active (based on `launchDate` and `endDate`)?**\n",
    "\n",
    "---\n",
    "\n",
    "### **5. Station Characteristics**\n",
    "- **What are the most common station types (`STATION_TYPE`)?**\n",
    "- **Are there differences in station types based on location (e.g., urban vs. suburban)?**\n",
    "- **How do station names (`FAC_NAME`) or addresses reflect their location or purpose?**\n",
    "- **Are there patterns in the naming conventions of bikeshare stations?**\n",
    "\n",
    "---\n",
    "\n",
    "### **6. Urban and Regional Analysis**\n",
    "- **How do bikeshare stations align with population density or urban development?**\n",
    "- **Are bikeshare stations more common in certain types of neighborhoods (e.g., downtown areas, residential areas)?**\n",
    "- **How does the distribution of bikeshare stations correlate with public transit hubs or other transportation infrastructure?**\n",
    "- **Are there differences in bikeshare station density between metropolitan areas (based on `CBSA_CODE`)?**\n",
    "\n",
    "---\n",
    "\n",
    "### **7. Comparative Analysis**\n",
    "- **How do bikeshare systems in different cities or states compare in terms of station density or growth?**\n",
    "- **Are there differences in station types or locations between systems?**\n",
    "- **Which cities or systems have the most unique or innovative station designs?**\n",
    "- **How do bikeshare systems in different regions adapt to local needs (e.g., weather, population density)?**\n",
    "\n",
    "---\n",
    "\n",
    "### **8. Predictive and Diagnostic Questions**\n",
    "- **Can we predict where new bikeshare stations are likely to be launched based on existing patterns?**\n",
    "- **What factors (e.g., population density, income levels, public transit access) influence the location of bikeshare stations?**\n",
    "- **Are there patterns in station closures (e.g., due to low usage, maintenance costs)?**\n",
    "- **What is the likelihood of a station remaining active based on its location or type?**\n",
    "\n",
    "---\n",
    "\n",
    "### **9. Visualization and Mapping**\n",
    "- **Create a map showing the geographic distribution of bikeshare stations by system or year.**\n",
    "- **Visualize the growth of bikeshare systems over time using an animated map or timeline.**\n",
    "- **Plot the density of bikeshare stations in specific cities or regions.**\n",
    "- **Create a heatmap of bikeshare station locations to identify high-density areas.**\n",
    "\n",
    "---\n",
    "\n",
    "### **10. Policy and Planning**\n",
    "- **How can bikeshare systems optimize station placement to maximize usage?**\n",
    "- **What lessons can be learned from successful bikeshare systems to improve underperforming ones?**\n",
    "- **How do bikeshare stations contribute to sustainable urban transportation?**\n",
    "- **What policies or incentives could encourage the expansion of bikeshare systems in underserved areas?**\n",
    "\n",
    "---\n",
    "\n",
    "### **Example Hypotheses to Test**\n",
    "- **Hypothesis 1**: Bikeshare stations are more densely located in urban areas with higher population density.\n",
    "- **Hypothesis 2**: Bikeshare systems in cities with robust public transit networks have more stations.\n",
    "- **Hypothesis 3**: Stations located near public transit hubs have longer lifespans.\n",
    "- **Hypothesis 4**: Bikeshare systems in warmer climates have more stations than those in colder climates.\n",
    "- **Hypothesis 5**: The number of bikeshare stations has grown exponentially since their introduction.\n",
    "\n",
    "---\n",
    "\n",
    "### **Tools to Answer These Questions**\n",
    "- **Data Cleaning**: Python (Pandas), R, or Excel.\n",
    "- **Visualization**: Tableau, Power BI, Matplotlib, Seaborn, or Plotly.\n",
    "- **Geospatial Analysis**: GeoPandas, QGIS, or ArcGIS for mapping.\n",
    "- **Statistical Analysis**: Python (SciPy, Statsmodels) or R.\n",
    "- **Machine Learning**: Scikit-learn for predictive modeling (e.g., station placement).\n",
    "\n",
    "---\n",
    "\n"
   ]
  },
  {
   "cell_type": "code",
   "execution_count": 1,
   "metadata": {},
   "outputs": [],
   "source": [
    "import pandas as pd\n",
    "import numpy as np\n",
    "import matplotlib.pyplot as plt\n",
    "import seaborn as sns"
   ]
  },
  {
   "cell_type": "code",
   "execution_count": 2,
   "metadata": {},
   "outputs": [
    {
     "name": "stderr",
     "output_type": "stream",
     "text": [
      "C:\\Users\\andre\\AppData\\Local\\Temp\\ipykernel_28820\\3612095527.py:1: DtypeWarning: Columns (12) have mixed types. Specify dtype option on import or set low_memory=False.\n",
      "  df1 = pd.read_csv(r'C:\\Users\\andre\\Desktop\\Bikeshare Station Project\\Locations_of_Docked_Bikeshare_Stations_by_System_and_Year.csv')\n"
     ]
    },
    {
     "data": {
      "text/html": [
       "<div>\n",
       "<style scoped>\n",
       "    .dataframe tbody tr th:only-of-type {\n",
       "        vertical-align: middle;\n",
       "    }\n",
       "\n",
       "    .dataframe tbody tr th {\n",
       "        vertical-align: top;\n",
       "    }\n",
       "\n",
       "    .dataframe thead th {\n",
       "        text-align: right;\n",
       "    }\n",
       "</style>\n",
       "<table border=\"1\" class=\"dataframe\">\n",
       "  <thead>\n",
       "    <tr style=\"text-align: right;\">\n",
       "      <th></th>\n",
       "      <th>the_geom</th>\n",
       "      <th>ID</th>\n",
       "      <th>FAC_ID</th>\n",
       "      <th>BIKE_ID</th>\n",
       "      <th>SYSTEM_ID</th>\n",
       "      <th>SYSTEM_NAME</th>\n",
       "      <th>YEAR</th>\n",
       "      <th>ASOFDATE</th>\n",
       "      <th>FAC_NAME</th>\n",
       "      <th>ADDRESS</th>\n",
       "      <th>CITY</th>\n",
       "      <th>STATE</th>\n",
       "      <th>ZIPCODE</th>\n",
       "      <th>CBSA_CODE</th>\n",
       "      <th>LONGITUDE</th>\n",
       "      <th>LATITUDE</th>\n",
       "      <th>STATION_TYPE</th>\n",
       "      <th>launchDate</th>\n",
       "      <th>endDate</th>\n",
       "    </tr>\n",
       "  </thead>\n",
       "  <tbody>\n",
       "    <tr>\n",
       "      <th>0</th>\n",
       "      <td>POINT (-85.302739 35.047574)</td>\n",
       "      <td>2278.0</td>\n",
       "      <td>TN3740303</td>\n",
       "      <td>-</td>\n",
       "      <td>54</td>\n",
       "      <td>Bike Chattanooga</td>\n",
       "      <td>2015</td>\n",
       "      <td>201512</td>\n",
       "      <td>-</td>\n",
       "      <td>Oak St &amp; Houston St</td>\n",
       "      <td>Chattanooga</td>\n",
       "      <td>TN</td>\n",
       "      <td>37403</td>\n",
       "      <td>16860</td>\n",
       "      <td>-85.302739</td>\n",
       "      <td>35.047574</td>\n",
       "      <td>-</td>\n",
       "      <td>Jul-2012</td>\n",
       "      <td>NaN</td>\n",
       "    </tr>\n",
       "    <tr>\n",
       "      <th>1</th>\n",
       "      <td>POINT (-77.091991 38.982456)</td>\n",
       "      <td>2579.0</td>\n",
       "      <td>MD2077301</td>\n",
       "      <td>-</td>\n",
       "      <td>56</td>\n",
       "      <td>Capital Bikeshare</td>\n",
       "      <td>2015</td>\n",
       "      <td>201512</td>\n",
       "      <td>47th &amp; Elm St</td>\n",
       "      <td>47th &amp; Elm St</td>\n",
       "      <td>Chevy Chase</td>\n",
       "      <td>MD</td>\n",
       "      <td>20815</td>\n",
       "      <td>47900</td>\n",
       "      <td>-77.091991</td>\n",
       "      <td>38.982456</td>\n",
       "      <td>-</td>\n",
       "      <td>Sep-2010</td>\n",
       "      <td>NaN</td>\n",
       "    </tr>\n",
       "    <tr>\n",
       "      <th>2</th>\n",
       "      <td>POINT (-87.624084 41.881031)</td>\n",
       "      <td>2967.0</td>\n",
       "      <td>IL6060282</td>\n",
       "      <td>-</td>\n",
       "      <td>60</td>\n",
       "      <td>Divvy</td>\n",
       "      <td>2015</td>\n",
       "      <td>201512</td>\n",
       "      <td>Millennium Park</td>\n",
       "      <td>Millennium Park</td>\n",
       "      <td>Chicago</td>\n",
       "      <td>IL</td>\n",
       "      <td>60603</td>\n",
       "      <td>16980</td>\n",
       "      <td>-87.624084</td>\n",
       "      <td>41.881031</td>\n",
       "      <td>-</td>\n",
       "      <td>Jun-2013</td>\n",
       "      <td>NaN</td>\n",
       "    </tr>\n",
       "    <tr>\n",
       "      <th>3</th>\n",
       "      <td>POINT (-71.107341 42.310579)</td>\n",
       "      <td>3505.0</td>\n",
       "      <td>MA0213011</td>\n",
       "      <td>E32005</td>\n",
       "      <td>1</td>\n",
       "      <td>Hubway (03/2018 re-launched as Blue Bikes)</td>\n",
       "      <td>2016</td>\n",
       "      <td>201612</td>\n",
       "      <td>-</td>\n",
       "      <td>Green St T</td>\n",
       "      <td>Jamaica Plain</td>\n",
       "      <td>MA</td>\n",
       "      <td>2130</td>\n",
       "      <td>14460</td>\n",
       "      <td>-71.107341</td>\n",
       "      <td>42.310579</td>\n",
       "      <td>-</td>\n",
       "      <td>Jul-2011</td>\n",
       "      <td>NaN</td>\n",
       "    </tr>\n",
       "    <tr>\n",
       "      <th>4</th>\n",
       "      <td>POINT (-77.01597 38.917622)</td>\n",
       "      <td>6350.0</td>\n",
       "      <td>DC2074001</td>\n",
       "      <td>31118</td>\n",
       "      <td>56</td>\n",
       "      <td>Capital Bikeshare</td>\n",
       "      <td>2016</td>\n",
       "      <td>201612</td>\n",
       "      <td>3rd &amp; Elm St NW</td>\n",
       "      <td>3rd &amp; Elm St NW</td>\n",
       "      <td>Washington</td>\n",
       "      <td>DC</td>\n",
       "      <td>20001</td>\n",
       "      <td>47900</td>\n",
       "      <td>-77.015970</td>\n",
       "      <td>38.917622</td>\n",
       "      <td>-</td>\n",
       "      <td>Sep-2010</td>\n",
       "      <td>NaN</td>\n",
       "    </tr>\n",
       "  </tbody>\n",
       "</table>\n",
       "</div>"
      ],
      "text/plain": [
       "                       the_geom      ID     FAC_ID BIKE_ID  SYSTEM_ID  \\\n",
       "0  POINT (-85.302739 35.047574)  2278.0  TN3740303       -         54   \n",
       "1  POINT (-77.091991 38.982456)  2579.0  MD2077301       -         56   \n",
       "2  POINT (-87.624084 41.881031)  2967.0  IL6060282       -         60   \n",
       "3  POINT (-71.107341 42.310579)  3505.0  MA0213011  E32005          1   \n",
       "4   POINT (-77.01597 38.917622)  6350.0  DC2074001   31118         56   \n",
       "\n",
       "                                  SYSTEM_NAME  YEAR  ASOFDATE  \\\n",
       "0                            Bike Chattanooga  2015    201512   \n",
       "1                           Capital Bikeshare  2015    201512   \n",
       "2                                       Divvy  2015    201512   \n",
       "3  Hubway (03/2018 re-launched as Blue Bikes)  2016    201612   \n",
       "4                           Capital Bikeshare  2016    201612   \n",
       "\n",
       "          FAC_NAME              ADDRESS           CITY STATE ZIPCODE  \\\n",
       "0                -  Oak St & Houston St    Chattanooga    TN   37403   \n",
       "1    47th & Elm St        47th & Elm St    Chevy Chase    MD   20815   \n",
       "2  Millennium Park      Millennium Park        Chicago    IL   60603   \n",
       "3                -           Green St T  Jamaica Plain    MA    2130   \n",
       "4  3rd & Elm St NW      3rd & Elm St NW     Washington    DC   20001   \n",
       "\n",
       "  CBSA_CODE  LONGITUDE   LATITUDE STATION_TYPE launchDate endDate  \n",
       "0     16860 -85.302739  35.047574            -   Jul-2012     NaN  \n",
       "1     47900 -77.091991  38.982456            -   Sep-2010     NaN  \n",
       "2     16980 -87.624084  41.881031            -   Jun-2013     NaN  \n",
       "3     14460 -71.107341  42.310579            -   Jul-2011     NaN  \n",
       "4     47900 -77.015970  38.917622            -   Sep-2010     NaN  "
      ]
     },
     "execution_count": 2,
     "metadata": {},
     "output_type": "execute_result"
    }
   ],
   "source": [
    "df1 = pd.read_csv(r'C:\\Users\\andre\\Desktop\\Bikeshare Station Project\\Locations_of_Docked_Bikeshare_Stations_by_System_and_Year.csv')\n",
    "df1.head()"
   ]
  },
  {
   "cell_type": "code",
   "execution_count": 3,
   "metadata": {},
   "outputs": [
    {
     "name": "stdout",
     "output_type": "stream",
     "text": [
      "<class 'pandas.core.frame.DataFrame'>\n",
      "RangeIndex: 67574 entries, 0 to 67573\n",
      "Data columns (total 19 columns):\n",
      " #   Column        Non-Null Count  Dtype  \n",
      "---  ------        --------------  -----  \n",
      " 0   the_geom      67574 non-null  object \n",
      " 1   ID            67573 non-null  float64\n",
      " 2   FAC_ID        67574 non-null  object \n",
      " 3   BIKE_ID       67568 non-null  object \n",
      " 4   SYSTEM_ID     67574 non-null  int64  \n",
      " 5   SYSTEM_NAME   67574 non-null  object \n",
      " 6   YEAR          67574 non-null  int64  \n",
      " 7   ASOFDATE      67574 non-null  int64  \n",
      " 8   FAC_NAME      67574 non-null  object \n",
      " 9   ADDRESS       67574 non-null  object \n",
      " 10  CITY          67574 non-null  object \n",
      " 11  STATE         67574 non-null  object \n",
      " 12  ZIPCODE       67574 non-null  object \n",
      " 13  CBSA_CODE     67574 non-null  object \n",
      " 14  LONGITUDE     67574 non-null  float64\n",
      " 15  LATITUDE      67574 non-null  float64\n",
      " 16  STATION_TYPE  67574 non-null  object \n",
      " 17  launchDate    67574 non-null  object \n",
      " 18  endDate       12057 non-null  object \n",
      "dtypes: float64(3), int64(3), object(13)\n",
      "memory usage: 9.8+ MB\n"
     ]
    }
   ],
   "source": [
    "df1.info()"
   ]
  },
  {
   "cell_type": "code",
   "execution_count": 4,
   "metadata": {},
   "outputs": [
    {
     "data": {
      "text/plain": [
       "(67574, 19)"
      ]
     },
     "execution_count": 4,
     "metadata": {},
     "output_type": "execute_result"
    }
   ],
   "source": [
    "df1.shape"
   ]
  },
  {
   "cell_type": "code",
   "execution_count": 5,
   "metadata": {},
   "outputs": [
    {
     "data": {
      "text/html": [
       "<div>\n",
       "<style scoped>\n",
       "    .dataframe tbody tr th:only-of-type {\n",
       "        vertical-align: middle;\n",
       "    }\n",
       "\n",
       "    .dataframe tbody tr th {\n",
       "        vertical-align: top;\n",
       "    }\n",
       "\n",
       "    .dataframe thead th {\n",
       "        text-align: right;\n",
       "    }\n",
       "</style>\n",
       "<table border=\"1\" class=\"dataframe\">\n",
       "  <thead>\n",
       "    <tr style=\"text-align: right;\">\n",
       "      <th></th>\n",
       "      <th>ID</th>\n",
       "      <th>SYSTEM_ID</th>\n",
       "      <th>YEAR</th>\n",
       "      <th>ASOFDATE</th>\n",
       "      <th>LONGITUDE</th>\n",
       "      <th>LATITUDE</th>\n",
       "    </tr>\n",
       "  </thead>\n",
       "  <tbody>\n",
       "    <tr>\n",
       "      <th>count</th>\n",
       "      <td>67573.000000</td>\n",
       "      <td>67574.000000</td>\n",
       "      <td>67574.000000</td>\n",
       "      <td>67574.000000</td>\n",
       "      <td>67574.000000</td>\n",
       "      <td>67574.000000</td>\n",
       "    </tr>\n",
       "    <tr>\n",
       "      <th>mean</th>\n",
       "      <td>34156.945289</td>\n",
       "      <td>43.877941</td>\n",
       "      <td>2020.132492</td>\n",
       "      <td>202023.354693</td>\n",
       "      <td>-90.126471</td>\n",
       "      <td>38.783448</td>\n",
       "    </tr>\n",
       "    <tr>\n",
       "      <th>std</th>\n",
       "      <td>19913.705356</td>\n",
       "      <td>35.570226</td>\n",
       "      <td>2.743578</td>\n",
       "      <td>272.371383</td>\n",
       "      <td>18.358680</td>\n",
       "      <td>4.849393</td>\n",
       "    </tr>\n",
       "    <tr>\n",
       "      <th>min</th>\n",
       "      <td>1.000000</td>\n",
       "      <td>1.000000</td>\n",
       "      <td>2015.000000</td>\n",
       "      <td>201512.000000</td>\n",
       "      <td>-157.870423</td>\n",
       "      <td>21.267900</td>\n",
       "    </tr>\n",
       "    <tr>\n",
       "      <th>25%</th>\n",
       "      <td>16895.000000</td>\n",
       "      <td>5.000000</td>\n",
       "      <td>2018.000000</td>\n",
       "      <td>201812.000000</td>\n",
       "      <td>-96.693670</td>\n",
       "      <td>37.769095</td>\n",
       "    </tr>\n",
       "    <tr>\n",
       "      <th>50%</th>\n",
       "      <td>33855.000000</td>\n",
       "      <td>43.000000</td>\n",
       "      <td>2020.000000</td>\n",
       "      <td>202012.000000</td>\n",
       "      <td>-86.147000</td>\n",
       "      <td>40.675832</td>\n",
       "    </tr>\n",
       "    <tr>\n",
       "      <th>75%</th>\n",
       "      <td>51759.000000</td>\n",
       "      <td>60.000000</td>\n",
       "      <td>2023.000000</td>\n",
       "      <td>202307.000000</td>\n",
       "      <td>-75.144008</td>\n",
       "      <td>41.870816</td>\n",
       "    </tr>\n",
       "    <tr>\n",
       "      <th>max</th>\n",
       "      <td>68663.000000</td>\n",
       "      <td>166.000000</td>\n",
       "      <td>2024.000000</td>\n",
       "      <td>202407.000000</td>\n",
       "      <td>-70.753969</td>\n",
       "      <td>47.666145</td>\n",
       "    </tr>\n",
       "  </tbody>\n",
       "</table>\n",
       "</div>"
      ],
      "text/plain": [
       "                 ID     SYSTEM_ID          YEAR       ASOFDATE     LONGITUDE  \\\n",
       "count  67573.000000  67574.000000  67574.000000   67574.000000  67574.000000   \n",
       "mean   34156.945289     43.877941   2020.132492  202023.354693    -90.126471   \n",
       "std    19913.705356     35.570226      2.743578     272.371383     18.358680   \n",
       "min        1.000000      1.000000   2015.000000  201512.000000   -157.870423   \n",
       "25%    16895.000000      5.000000   2018.000000  201812.000000    -96.693670   \n",
       "50%    33855.000000     43.000000   2020.000000  202012.000000    -86.147000   \n",
       "75%    51759.000000     60.000000   2023.000000  202307.000000    -75.144008   \n",
       "max    68663.000000    166.000000   2024.000000  202407.000000    -70.753969   \n",
       "\n",
       "           LATITUDE  \n",
       "count  67574.000000  \n",
       "mean      38.783448  \n",
       "std        4.849393  \n",
       "min       21.267900  \n",
       "25%       37.769095  \n",
       "50%       40.675832  \n",
       "75%       41.870816  \n",
       "max       47.666145  "
      ]
     },
     "execution_count": 5,
     "metadata": {},
     "output_type": "execute_result"
    }
   ],
   "source": [
    "df1.describe()"
   ]
  },
  {
   "cell_type": "code",
   "execution_count": 6,
   "metadata": {},
   "outputs": [
    {
     "data": {
      "text/plain": [
       "the_geom            0\n",
       "ID                  1\n",
       "FAC_ID              0\n",
       "BIKE_ID             6\n",
       "SYSTEM_ID           0\n",
       "SYSTEM_NAME         0\n",
       "YEAR                0\n",
       "ASOFDATE            0\n",
       "FAC_NAME            0\n",
       "ADDRESS             0\n",
       "CITY                0\n",
       "STATE               0\n",
       "ZIPCODE             0\n",
       "CBSA_CODE           0\n",
       "LONGITUDE           0\n",
       "LATITUDE            0\n",
       "STATION_TYPE        0\n",
       "launchDate          0\n",
       "endDate         55517\n",
       "dtype: int64"
      ]
     },
     "execution_count": 6,
     "metadata": {},
     "output_type": "execute_result"
    }
   ],
   "source": [
    "df1.isnull().sum()"
   ]
  },
  {
   "cell_type": "code",
   "execution_count": 7,
   "metadata": {},
   "outputs": [
    {
     "name": "stdout",
     "output_type": "stream",
     "text": [
      "Number of rows after removing null values: 67567\n",
      "\n",
      "Null counts in ID and BIKE_ID after cleaning:\n",
      "ID         0\n",
      "BIKE_ID    0\n",
      "dtype: int64\n"
     ]
    }
   ],
   "source": [
    "df1 = df1.dropna(subset=['ID', 'BIKE_ID'])\n",
    "print(f\"Number of rows after removing null values: {len(df1)}\")\n",
    "print(\"\\nNull counts in ID and BIKE_ID after cleaning:\")\n",
    "print(df1[['ID', 'BIKE_ID']].isnull().sum())"
   ]
  },
  {
   "cell_type": "code",
   "execution_count": 8,
   "metadata": {},
   "outputs": [
    {
     "data": {
      "text/plain": [
       "the_geom            0\n",
       "ID                  0\n",
       "FAC_ID              0\n",
       "BIKE_ID             0\n",
       "SYSTEM_ID           0\n",
       "SYSTEM_NAME         0\n",
       "YEAR                0\n",
       "ASOFDATE            0\n",
       "FAC_NAME            0\n",
       "ADDRESS             0\n",
       "CITY                0\n",
       "STATE               0\n",
       "ZIPCODE             0\n",
       "CBSA_CODE           0\n",
       "LONGITUDE           0\n",
       "LATITUDE            0\n",
       "STATION_TYPE        0\n",
       "launchDate          0\n",
       "endDate         55517\n",
       "dtype: int64"
      ]
     },
     "execution_count": 8,
     "metadata": {},
     "output_type": "execute_result"
    }
   ],
   "source": [
    "df1.isnull().sum()\n"
   ]
  },
  {
   "cell_type": "code",
   "execution_count": 9,
   "metadata": {},
   "outputs": [
    {
     "data": {
      "text/plain": [
       "np.int64(0)"
      ]
     },
     "execution_count": 9,
     "metadata": {},
     "output_type": "execute_result"
    }
   ],
   "source": [
    "df1.duplicated().sum()\n"
   ]
  },
  {
   "cell_type": "code",
   "execution_count": 17,
   "metadata": {},
   "outputs": [],
   "source": [
    "df1.to_csv(r'C:\\Users\\andre\\Desktop\\Bikeshare Station Project\\cleaned_bikeshare_stations.csv', index=False)\n"
   ]
  },
  {
   "cell_type": "code",
   "execution_count": 36,
   "metadata": {},
   "outputs": [
    {
     "name": "stdout",
     "output_type": "stream",
     "text": [
      "Number of unique cities in the dataset: 326\n",
      "\n",
      "List of unique cities:\n",
      "['Chattanooga' 'Chevy Chase' 'Chicago' 'Jamaica Plain' 'Washington'\n",
      " 'Roxbury' 'El Paso' 'Fort Worth' 'Berkeley' 'Alexandria' 'Portland'\n",
      " 'Long Island City' 'Jersey City' 'Miami' 'Charlotte' 'Salt Lake City'\n",
      " 'Boston' 'New York' 'Omaha' 'Madison' 'Aspen' 'Pittsburgh' 'Arlington'\n",
      " 'Honolulu' 'Bethesda' 'Raleigh' 'Brookline' 'Brooklyn' 'Niagara Falls'\n",
      " 'Manitowish Waters' 'Evanston' 'Troy' 'Cambridge' 'Cincinnati'\n",
      " 'Los Angeles' 'Albany' 'Mesa' 'Topeka' 'Phoenix' 'Carmel' 'Atlanta'\n",
      " 'Denver' 'Saint Paul' 'Tampa' 'Boise' 'Cleveland' 'Portsmouth'\n",
      " 'Minneapolis' 'Wichita' 'Jeffersonville' 'Kansas City' 'Baton Rouge'\n",
      " 'Louisville' 'Falls Church' 'San Antonio' 'Milwaukee' 'Long Beach'\n",
      " 'Dayton' 'Nashville' 'Memphis' 'Las Vegas' 'Saratoga Springs' 'Houston'\n",
      " 'Reston' 'Astoria' 'Austin' 'Silver Spring' 'Miami Beach' 'Eugene'\n",
      " 'Dorchester' 'Somerville' 'Boulder' 'Columbus' 'San Jose' 'Philadelphia'\n",
      " 'Lincoln' 'Schenectady' 'Basalt' 'Pasadena' 'Indianapolis' 'Seattle'\n",
      " 'San Francisco' 'Rockville' 'Wauwatosa' 'Newport' 'Redwood City'\n",
      " 'Detroit' 'Buffalo' 'Oakland' 'Cohoes' 'McAllen' 'El Jebel' 'Venice'\n",
      " 'Allston' 'Council Bluffs' 'Mattapan' 'Aventura' 'Tucson' 'Wilmington'\n",
      " 'Fort Lauderdale' 'Takoma Park' 'Emeryville' 'Culver City' 'Brighton'\n",
      " 'Des Moines' 'West Allis' 'Marina del Rey' 'South Boston' 'Amherst'\n",
      " 'McLean' 'Vienna' 'Bay Harbor Islands' 'Bronx' 'Roslindale' 'Covington'\n",
      " 'East Elmhurst' 'Charlestown' 'North Bethesda' 'Medford' 'East Boston'\n",
      " 'Everett' 'Papillion' 'Hyattsville' 'Hollywood' 'Dania Beach' 'Queens'\n",
      " 'Fairfax' 'Oak Park' 'West Roxbury' 'Upper Marlboro' 'Bellevue'\n",
      " 'Ridgewood' 'Derwood' 'Riverdale' 'San Pedro' 'Hallandale Beach'\n",
      " 'Palo Alto' 'Surfside' 'Shorewood' 'Snowmass Village' 'Ashland' 'Jackson'\n",
      " 'Oxon Hill' 'Santa Monica' 'West Memphis' 'Pompano Beach' 'Woodside'\n",
      " 'Mountain View' 'Lauderdale by the Sea' 'Brentwood' 'Mount Rainier'\n",
      " 'Fort Myer' 'Alamo Heights' 'Marion' 'South Salt Lake' 'North Hollywood'\n",
      " 'Brownsville' 'Newton' 'Maspeth' 'Royal Oak' 'Santa Barbara' 'Park City'\n",
      " 'Monona' 'Ferndale' 'Salem' 'Corona' 'Ogden' 'Valentine' 'Playa del Rey'\n",
      " 'Sunnyside' 'Springfield' 'Hoboken' 'Berkley' 'Watertown' 'Bismarck'\n",
      " 'Harlingen' 'Glendale' 'Studio City' 'Middle Village' 'Valley Village'\n",
      " 'Revere' 'Fitchburg' 'Chelsea' 'Jackson Heights' 'Manhattan' 'Rego Park'\n",
      " 'Hyde Park' 'Greenbelt' 'Watervliet' 'Windsor Heights' 'Elmhurst'\n",
      " 'Playa Vista' 'Toluca Lake' 'Temple Hills' 'Clive' 'Malden' 'Auburndale'\n",
      " 'Menands' 'Holyoke' 'Capitol Heights' 'McFarland' 'West Des Moines'\n",
      " 'Cary' 'Oakton' 'Tonawanda' 'Huntington Woods' 'Colonie' 'Chestnut Hill'\n",
      " 'Dunn Loring' 'Brooks AFB' 'St. Petersburg' 'Ketchum' 'New Orleans'\n",
      " 'Beverly Hills' 'Fort Pierce' 'San Mateo' 'Charleston' 'San Diego'\n",
      " 'Tempe' 'Orlando' 'Westfield' 'Tulsa' 'Winston-Salem' 'Marlborough'\n",
      " 'Birmingham' 'Greenville' 'Bayonne' 'Northampton' 'Burlington'\n",
      " 'Oklahoma City' 'Redding' 'Guttenberg' 'Dearborn' 'West Palm Beach'\n",
      " 'Harrisburg' 'Spartanburg' 'College Park' 'Capitola' 'Lakeland'\n",
      " 'Santa Cruz' 'Fargo' 'New Haven' 'Danville' 'Baltimore' 'Richmond'\n",
      " 'Sun Valley' 'Corvallis' 'Garden City' 'Huntsville' 'Ann Arbor'\n",
      " 'Rock Hill' 'Hailey' 'Normal' 'Roanoke' 'Breckenridge' 'Truckee'\n",
      " 'Columbia' 'Salina' 'West New York' 'San Ramon' 'Fort Snelling'\n",
      " 'Westminster' 'Smyrna' 'East Peoria' 'Battle Creek' 'Fort Wayne'\n",
      " 'Manchester' 'Fort Collins' 'Port Saint Lucie' 'Albuquerque' 'Toledo'\n",
      " 'Easthampton' 'South Euclid' 'Blacksburg' 'West Hollywood' 'Longmont'\n",
      " 'White City' 'Carrollton' 'Gainesville' 'Peoria' 'South Burlington'\n",
      " 'Aurora' 'Weehawken' 'Boyds' 'Christiansburg' 'Chicopee' 'Corpus Christi'\n",
      " 'Concordia' 'North Bergen' 'North Kansas City' 'Ellicott City'\n",
      " 'West Springfield' 'Evans' 'Beloit' 'University Park' 'Winooski'\n",
      " 'Savannah' 'Falcon Heights' 'Jenks' 'Meadville' 'Hutchinson Island'\n",
      " 'Golden Valley' 'Dallas' 'Superior' 'Morristown' 'Daly City' 'Rapid City'\n",
      " 'Bloomington' 'South Hadley' 'Hastings' 'Peoria Heights' 'Vinton'\n",
      " 'Bishop' 'Key West' 'Mankato' 'Winter Park' 'Huntingburg' 'Ellsworth'\n",
      " 'Celebration' 'Palm Beach' 'Belleville' 'Curtis Bay' 'Encinitas'\n",
      " 'Broken Arrow' 'St. Augustine' 'Cardiff by the Sea']\n"
     ]
    }
   ],
   "source": [
    "unique_cities = df1['CITY'].nunique()\n",
    "print(f\"Number of unique cities in the dataset: {unique_cities}\")\n",
    "print(\"\\nList of unique cities:\")\n",
    "print(df1['CITY'].unique())\n"
   ]
  },
  {
   "cell_type": "code",
   "execution_count": 37,
   "metadata": {},
   "outputs": [
    {
     "name": "stdout",
     "output_type": "stream",
     "text": [
      "Statistics for number of stations per city:\n",
      "\n",
      "Median stations per city: 37.0\n",
      "Mean stations per city: 207.3\n",
      "\n",
      "Number of stations in each city:\n",
      "CITY\n",
      "Chicago          8825\n",
      "New York         5497\n",
      "Brooklyn         3509\n",
      "Washington       3055\n",
      "San Francisco    2060\n",
      "                 ... \n",
      "Daly City           1\n",
      "Celebration         1\n",
      "Cary                1\n",
      "Brooks AFB          1\n",
      "Alamo Heights       1\n",
      "Length: 326, dtype: int64\n"
     ]
    }
   ],
   "source": [
    "city_stats = df1.groupby('CITY').size().agg(['median', 'mean'])\n",
    "print(\"Statistics for number of stations per city:\")\n",
    "print(f\"\\nMedian stations per city: {city_stats['median']:.1f}\")\n",
    "print(f\"Mean stations per city: {city_stats['mean']:.1f}\")\n",
    "print(\"\\nNumber of stations in each city:\")\n",
    "city_counts = df1.groupby('CITY').size().sort_values(ascending=False)\n",
    "print(city_counts)\n"
   ]
  },
  {
   "cell_type": "code",
   "execution_count": 11,
   "metadata": {},
   "outputs": [
    {
     "name": "stdout",
     "output_type": "stream",
     "text": [
      "Number of duplicate locations removed: 0\n"
     ]
    }
   ],
   "source": [
    "df1 = df1.sort_values('YEAR')\n",
    "df1 = df1.drop_duplicates(subset=['the_geom'], keep='first')\n",
    "\n"
   ]
  },
  {
   "cell_type": "code",
   "execution_count": 15,
   "metadata": {},
   "outputs": [],
   "source": [
    "df1 = df1.sort_values('YEAR')\n",
    "df1 = df1.drop_duplicates(subset=['FAC_ID'], keep='first')\n"
   ]
  },
  {
   "cell_type": "code",
   "execution_count": 16,
   "metadata": {},
   "outputs": [
    {
     "data": {
      "text/plain": [
       "(10903, 19)"
      ]
     },
     "execution_count": 16,
     "metadata": {},
     "output_type": "execute_result"
    }
   ],
   "source": [
    "df1.shape\n",
    "\n"
   ]
  },
  {
   "cell_type": "code",
   "execution_count": 71,
   "metadata": {},
   "outputs": [],
   "source": [
    "df1.head(100).to_csv(r'C:\\Users\\andre\\Desktop\\Bikeshare Station Project\\cleaned_bikeshare_stations_100.csv', index=False)\n"
   ]
  },
  {
   "cell_type": "code",
   "execution_count": null,
   "metadata": {},
   "outputs": [],
   "source": [
    "df1.to_csv(r'C:\\Users\\andre\\Desktop\\Bikeshare Station Project\\cleaned_bikeshare_stations.csv', index=False)"
   ]
  }
 ],
 "metadata": {
  "kernelspec": {
   "display_name": "Python 3",
   "language": "python",
   "name": "python3"
  },
  "language_info": {
   "codemirror_mode": {
    "name": "ipython",
    "version": 3
   },
   "file_extension": ".py",
   "mimetype": "text/x-python",
   "name": "python",
   "nbconvert_exporter": "python",
   "pygments_lexer": "ipython3",
   "version": "3.13.2"
  }
 },
 "nbformat": 4,
 "nbformat_minor": 2
}
